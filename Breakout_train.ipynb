{
 "cells": [
  {
   "cell_type": "code",
   "execution_count": 1,
   "metadata": {},
   "outputs": [],
   "source": [
    "import tensorflow as tf\n",
    "physical_devices = tf.config.list_physical_devices()\n",
    "tf.config.experimental.set_memory_growth(physical_devices[3], True)"
   ]
  },
  {
   "cell_type": "code",
   "execution_count": 2,
   "metadata": {
    "colab": {},
    "colab_type": "code",
    "executionInfo": {
     "elapsed": 3778,
     "status": "ok",
     "timestamp": 1600173817773,
     "user": {
      "displayName": "Himanshu",
      "photoUrl": "https://lh3.googleusercontent.com/a-/AOh14GhdCauOgU9YQTaR_WFJvGdZRC_ld0a9KtQG1s11uA=s64",
      "userId": "15127769422975897532"
     },
     "user_tz": -330
    },
    "id": "djyY9g8LBNPF"
   },
   "outputs": [],
   "source": [
    "from tensorflow.keras.layers import Dense,Dropout,Conv2D,Flatten,MaxPooling2D\n",
    "from tensorflow.keras.models import Sequential\n",
    "from collections import deque\n",
    "import numpy as np\n",
    "import gym\n",
    "import random\n",
    "import os\n",
    "import matplotlib.pyplot as plt\n",
    "from tensorflow.keras.optimizers import Adam"
   ]
  },
  {
   "cell_type": "code",
   "execution_count": 3,
   "metadata": {
    "colab": {},
    "colab_type": "code",
    "executionInfo": {
     "elapsed": 1254,
     "status": "ok",
     "timestamp": 1600173964387,
     "user": {
      "displayName": "Himanshu",
      "photoUrl": "https://lh3.googleusercontent.com/a-/AOh14GhdCauOgU9YQTaR_WFJvGdZRC_ld0a9KtQG1s11uA=s64",
      "userId": "15127769422975897532"
     },
     "user_tz": -330
    },
    "id": "WA-HO8kFfrKG"
   },
   "outputs": [],
   "source": [
    "output_dir = os.getcwd()\n",
    "if not os.path.exists(output_dir):\n",
    "    os.makedirs(output_dir)"
   ]
  },
  {
   "cell_type": "code",
   "execution_count": 4,
   "metadata": {
    "colab": {},
    "colab_type": "code",
    "executionInfo": {
     "elapsed": 1193,
     "status": "ok",
     "timestamp": 1600173988959,
     "user": {
      "displayName": "Himanshu",
      "photoUrl": "https://lh3.googleusercontent.com/a-/AOh14GhdCauOgU9YQTaR_WFJvGdZRC_ld0a9KtQG1s11uA=s64",
      "userId": "15127769422975897532"
     },
     "user_tz": -330
    },
    "id": "RUy0Bh00MEzm"
   },
   "outputs": [],
   "source": [
    "memory_size = 15_000\n",
    "gamma = 0.9995\n",
    "learning_rate= 0.001\n",
    "mini_batch_size = 32\n",
    "\n",
    "\n",
    "state_size = (210,160,1)\n",
    "n_episodes = 10_000\n",
    "\n",
    "epsilon_max = 1\n",
    "epsilon_min = 0.1"
   ]
  },
  {
   "cell_type": "code",
   "execution_count": 5,
   "metadata": {
    "colab": {
     "base_uri": "https://localhost:8080/",
     "height": 34
    },
    "colab_type": "code",
    "executionInfo": {
     "elapsed": 2238,
     "status": "ok",
     "timestamp": 1600173991669,
     "user": {
      "displayName": "Himanshu",
      "photoUrl": "https://lh3.googleusercontent.com/a-/AOh14GhdCauOgU9YQTaR_WFJvGdZRC_ld0a9KtQG1s11uA=s64",
      "userId": "15127769422975897532"
     },
     "user_tz": -330
    },
    "id": "a_FhAxiyCtQ5",
    "outputId": "696a98d1-5164-44b8-b1c1-0d29b4b8c9a0"
   },
   "outputs": [
    {
     "data": {
      "text/plain": [
       "4"
      ]
     },
     "execution_count": 5,
     "metadata": {},
     "output_type": "execute_result"
    }
   ],
   "source": [
    "name= \"Breakout-v0\"\n",
    "env = gym.make(name)\n",
    "action_size = env.action_space.n\n",
    "action_size"
   ]
  },
  {
   "cell_type": "code",
   "execution_count": 6,
   "metadata": {},
   "outputs": [
    {
     "data": {
      "text/plain": [
       "array([[[0, 0, 0],\n",
       "        [0, 0, 0],\n",
       "        [0, 0, 0],\n",
       "        ...,\n",
       "        [0, 0, 0],\n",
       "        [0, 0, 0],\n",
       "        [0, 0, 0]],\n",
       "\n",
       "       [[0, 0, 0],\n",
       "        [0, 0, 0],\n",
       "        [0, 0, 0],\n",
       "        ...,\n",
       "        [0, 0, 0],\n",
       "        [0, 0, 0],\n",
       "        [0, 0, 0]],\n",
       "\n",
       "       [[0, 0, 0],\n",
       "        [0, 0, 0],\n",
       "        [0, 0, 0],\n",
       "        ...,\n",
       "        [0, 0, 0],\n",
       "        [0, 0, 0],\n",
       "        [0, 0, 0]],\n",
       "\n",
       "       ...,\n",
       "\n",
       "       [[0, 0, 0],\n",
       "        [0, 0, 0],\n",
       "        [0, 0, 0],\n",
       "        ...,\n",
       "        [0, 0, 0],\n",
       "        [0, 0, 0],\n",
       "        [0, 0, 0]],\n",
       "\n",
       "       [[0, 0, 0],\n",
       "        [0, 0, 0],\n",
       "        [0, 0, 0],\n",
       "        ...,\n",
       "        [0, 0, 0],\n",
       "        [0, 0, 0],\n",
       "        [0, 0, 0]],\n",
       "\n",
       "       [[0, 0, 0],\n",
       "        [0, 0, 0],\n",
       "        [0, 0, 0],\n",
       "        ...,\n",
       "        [0, 0, 0],\n",
       "        [0, 0, 0],\n",
       "        [0, 0, 0]]], dtype=uint8)"
      ]
     },
     "execution_count": 6,
     "metadata": {},
     "output_type": "execute_result"
    }
   ],
   "source": [
    "env.reset()"
   ]
  },
  {
   "cell_type": "code",
   "execution_count": 7,
   "metadata": {},
   "outputs": [],
   "source": [
    "state = env.step(2)"
   ]
  },
  {
   "cell_type": "code",
   "execution_count": 8,
   "metadata": {},
   "outputs": [
    {
     "data": {
      "text/plain": [
       "<matplotlib.image.AxesImage at 0x7f38d7b21a00>"
      ]
     },
     "execution_count": 8,
     "metadata": {},
     "output_type": "execute_result"
    },
    {
     "data": {
      "image/png": "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\n",
      "text/plain": [
       "<Figure size 432x288 with 1 Axes>"
      ]
     },
     "metadata": {
      "needs_background": "light"
     },
     "output_type": "display_data"
    }
   ],
   "source": [
    "plt.imshow(state[0])"
   ]
  },
  {
   "cell_type": "code",
   "execution_count": 9,
   "metadata": {
    "colab": {},
    "colab_type": "code",
    "executionInfo": {
     "elapsed": 883,
     "status": "ok",
     "timestamp": 1600173995473,
     "user": {
      "displayName": "Himanshu",
      "photoUrl": "https://lh3.googleusercontent.com/a-/AOh14GhdCauOgU9YQTaR_WFJvGdZRC_ld0a9KtQG1s11uA=s64",
      "userId": "15127769422975897532"
     },
     "user_tz": -330
    },
    "id": "nT01jq0cyQiN"
   },
   "outputs": [],
   "source": [
    "def process(state1,state2,state3,state4):\n",
    "    \n",
    "    def pre(state):\n",
    "        s1 = state.astype('float')\n",
    "        s1 = s1/255\n",
    "        s1 = tf.image.resize(s1, (84, 84))\n",
    "        s1 = tf.image.rgb_to_grayscale(s1)\n",
    "        \n",
    "        return s1\n",
    "    \n",
    "    st1 = pre(state1)\n",
    "    st2 = pre(state2)\n",
    "    st3 = pre(state3)\n",
    "    st4 = pre(state4)\n",
    "    \n",
    "    states =  np.array(tf.concat((st1,st2,st3,st4),axis=2))\n",
    "    \n",
    "    states =  np.expand_dims(states,axis=0)\n",
    "    \n",
    "    return states\n",
    "\n"
   ]
  },
  {
   "cell_type": "code",
   "execution_count": 10,
   "metadata": {
    "colab": {},
    "colab_type": "code",
    "executionInfo": {
     "elapsed": 894,
     "status": "ok",
     "timestamp": 1600173997154,
     "user": {
      "displayName": "Himanshu",
      "photoUrl": "https://lh3.googleusercontent.com/a-/AOh14GhdCauOgU9YQTaR_WFJvGdZRC_ld0a9KtQG1s11uA=s64",
      "userId": "15127769422975897532"
     },
     "user_tz": -330
    },
    "id": "dxFcJb0kBjoL"
   },
   "outputs": [],
   "source": [
    "class DQNAgent:\n",
    "    \n",
    "  def __init__(self,memory_size,action_size):\n",
    "    self.action_size=action_size\n",
    "    self.gamma = 0.99\n",
    "    self.epsilon = 1\n",
    "    self.epsilon_decay = 0.999999\n",
    "    self.epsilon_min = 0.1\n",
    "    self.action_model  = self.build_model()\n",
    "    self.target_model =  self.build_model()\n",
    "    self.target_model.set_weights(self.action_model.get_weights())\n",
    "    self.swap_model = self.build_model()\n",
    "    self.memory = deque()   \n",
    "    self.learning_rate = learning_rate\n",
    "\n",
    "  def remember(self,state,action,reward,next_state,done):\n",
    "    if len(self.memory)>memory_size:\n",
    "      random.shuffle(self.memory)\n",
    "      self.memory.popleft()\n",
    "    self.memory.append((state,action,reward,next_state,done))\n",
    "\n",
    "  def build_model(self):\n",
    "    model = Sequential()\n",
    "    model.add(Conv2D(32, kernel_size=(8,8),strides=4, activation='relu', input_shape=(84,84,4)))\n",
    "    model.add(Conv2D(64, kernel_size=(4,4),strides=2, activation='relu'))\n",
    "    model.add(Conv2D(64, kernel_size=(3,3), strides = 1, activation='relu'))\n",
    "    model.add(Flatten())\n",
    "    model.add(Dense(512,activation='relu'))\n",
    "    model.add(Dense(action_size,activation='linear'))\n",
    "    model.compile(loss = tf.keras.losses.Huber(),optimizer = tf.keras.optimizers.Adam(lr = 0.00025))\n",
    "    return model\n",
    "\n",
    "  def act(self,state, epsilon = epsilon_min):\n",
    "    if np.random.random()<=epsilon:\n",
    "        return random.randrange(self.action_size)\n",
    "    else:\n",
    "        act_value  = self.action_model.predict(state)\n",
    "        return np.argmax(act_value[0])\n",
    "\n",
    "\n",
    "  def replay(self,minibatch_size):\n",
    "    random.shuffle(self.memory)\n",
    "    minibatch = random.sample(self.memory,mini_batch_size)\n",
    "    St0 = np.zeros((1, 84, 84, 4))\n",
    "    St1 = np.zeros((1, 84, 84, 4))\n",
    "    for state, _, _, next_state, _ in minibatch:\n",
    "        St0 = np.concatenate((St0, state), axis = 0)\n",
    "        St1 = np.concatenate((St1, next_state), axis = 0)#for vectorizing the operations\n",
    "      \n",
    "    St0 = St0[1:]\n",
    "    St1 = St1[1:]\n",
    "    target_not_done = self.target_model.predict(St1)\n",
    "    target_f = self.action_model.predict(St0)\n",
    "    \n",
    "    i = 0\n",
    "    for _, action, reward, _, done in minibatch:\n",
    "        target = reward\n",
    "        if not done:\n",
    "            target = reward  + self.gamma* np.amax(target_not_done[i])\n",
    "        \n",
    "        target_f[i][action] =  target\n",
    "        i += 1\n",
    "\n",
    "    self.action_model.fit(St0 , target_f, verbose= 0)\n",
    "        \n",
    "    if self.epsilon>self.epsilon_min:\n",
    "       self.epsilon *= self.epsilon_decay\n",
    "\n",
    "  def replace_weights(self):\n",
    "    self.swap_model.set_weights(self.action_model.get_weights())\n",
    "    self.action_model.set_weights(self.target_model.get_weights())\n",
    "\n",
    "    self.target_model.set_weights(self.swap_model.get_weights())\n",
    "  \n",
    "  def load(self,name):\n",
    "    self.action_model.load_weights(name)\n",
    "    self.target_model.load_weights(name)\n",
    "        \n",
    "   \n",
    "  def save(self,name):\n",
    "    self.action_model.save_weights(name)\n",
    " "
   ]
  },
  {
   "cell_type": "code",
   "execution_count": 11,
   "metadata": {
    "colab": {},
    "colab_type": "code",
    "executionInfo": {
     "elapsed": 1211,
     "status": "ok",
     "timestamp": 1600174224953,
     "user": {
      "displayName": "Himanshu",
      "photoUrl": "https://lh3.googleusercontent.com/a-/AOh14GhdCauOgU9YQTaR_WFJvGdZRC_ld0a9KtQG1s11uA=s64",
      "userId": "15127769422975897532"
     },
     "user_tz": -330
    },
    "id": "-6B7weW0FB7y"
   },
   "outputs": [],
   "source": [
    "agent = DQNAgent(memory_size,action_size)"
   ]
  },
  {
   "cell_type": "code",
   "execution_count": 15,
   "metadata": {
    "colab": {
     "base_uri": "https://localhost:8080/",
     "height": 1000
    },
    "colab_type": "code",
    "id": "4Ap-UwkcFpv9",
    "outputId": "9e8f0e4b-b4dc-4a14-d07b-9ebb651735de",
    "scrolled": true
   },
   "outputs": [],
   "source": [
    "def train():\n",
    "    done = False\n",
    "    states = deque()\n",
    "    time_step_count = 0\n",
    "    env.reset()\n",
    "    for i in range(4):\n",
    "        init_state = env.step(random.randrange(action_size))\n",
    "        states.append(init_state[0])\n",
    "    updated_states = states.copy()\n",
    "    current_states = process(states[0],states[1],states[2],states[3])\n",
    "    \n",
    "    for episode in range(n_episodes):\n",
    "        env.reset()\n",
    "        \n",
    "        cum_reward=0\n",
    "        for time_step in range(20_000):\n",
    "            if time_step_count <= 1000_000* epsilon_max:\n",
    "                epsilon = epsilon_max - (epsilon_max - epsilon_min) * time_step_count / (epsilon_max *1_000_000)\n",
    "            else:\n",
    "                epsilon = epsilon_min\n",
    "            action = agent.act(current_states)\n",
    "            next_state,reward,done,_=env.step(action)\n",
    "            updated_states.popleft()\n",
    "            \n",
    "            updated_states.append(next_state)\n",
    "            new_states = process(updated_states[0],updated_states[1],updated_states[2],updated_states[3])\n",
    "        \n",
    "            reward = reward if not done else -10\n",
    "            cum_reward +=reward\n",
    "            agent.remember(current_states,action,reward,new_states,done)\n",
    "            #current_states\n",
    "            current_states =  new_states.copy()\n",
    "            #del new_states\n",
    "            if time_step_count <2000:\n",
    "                print(f\"Time Step:{time_step_count}, Action: {action}, Reward: {reward}, Exploration: {epsilon}\")\n",
    "\n",
    "            \n",
    "        \n",
    "            if len(agent.memory)>4*mini_batch_size and time_step_count%4 == 0:\n",
    "                agent.replay(mini_batch_size)\n",
    "    \n",
    "            if time_step_count%10_000 == 0:\n",
    "                agent.replace_weights()\n",
    "                agent.save(output_dir + '/' + 'Breakout_new'+ '.hdf5')\n",
    "            \n",
    "            time_step_count += 1\n",
    "            \n",
    "            if done:\n",
    "                print(len(agent.memory))\n",
    "                print(\"example: {}, average reward: {}, episode: {}, exploration :{}\".format(time_step_count, cum_reward, episode, epsilon))\n",
    "                break\n",
    "              "
   ]
  },
  {
   "cell_type": "code",
   "execution_count": 16,
   "metadata": {},
   "outputs": [],
   "source": [
    "def test():\n",
    "    done = False\n",
    "    states = deque()\n",
    "    env.reset()\n",
    "    time_step_count = 0\n",
    "    for i in range(4):\n",
    "        init_state = env.step(random.randrange(action_size))\n",
    "        states.append(init_state[0])\n",
    "    updated_states = states.copy()\n",
    "    current_states = process(states[0],states[1],states[2],states[3])\n",
    "\n",
    "    for episode in range(100):\n",
    "    \n",
    "        env.reset()\n",
    "        cum_reward=0\n",
    "        for time_step in range(20_000):\n",
    "            action = agent.act(current_states)\n",
    "            next_state,reward,done,_=env.step(action)\n",
    "            env.render()\n",
    "            updated_states.popleft()\n",
    "            updated_states.append(next_state)\n",
    "            new_states = process(updated_states[0],updated_states[1],updated_states[2],updated_states[3])\n",
    "            \n",
    "            reward = reward if not done else -10\n",
    "            cum_reward +=reward\n",
    "            del current_states\n",
    "            current_states =  new_states.copy()\n",
    "            del new_states\n",
    "            \n",
    "            if time_step_count <2000:\n",
    "                print(f\"Time Step:{time_step_count}, Action: {action}, Reward: {reward}\")\n",
    "            \n",
    "            time_step_count += 1\n",
    "            \n",
    "            if done:\n",
    "                \n",
    "                print(\"time step: {}, average reward: {}, episode: {}\".format(time_step_count, cum_reward ,episode))\n",
    "                break\n",
    "         \n",
    "    env.close()    \n"
   ]
  },
  {
   "cell_type": "code",
   "execution_count": 17,
   "metadata": {
    "colab": {},
    "colab_type": "code",
    "id": "n8a1zsXCyQiu",
    "outputId": "67f09b20-af04-4e54-f069-a41049afddaa",
    "scrolled": false
   }
